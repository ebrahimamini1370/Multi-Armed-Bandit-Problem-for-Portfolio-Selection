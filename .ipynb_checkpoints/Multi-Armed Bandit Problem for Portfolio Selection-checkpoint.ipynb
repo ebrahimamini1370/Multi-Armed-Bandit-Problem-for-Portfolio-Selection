{
 "cells": [
  {
   "cell_type": "markdown",
   "id": "35fb0234",
   "metadata": {},
   "source": [
    "# Introduction\n",
    "Portfolio selection is a classic problem in finance, where an investor needs to decide how to allocate his/her capital among different assets. The objective is to maximize the return of the portfolio while minimizing its risk.\n",
    "Throughout recent years, experts in various fields have always attempted to use the scientific and practical tools at their disposal to develop methods for selecting a portfolio of stocks in financial markets. Therefore, currently, we can use various portfolio construction methods for trading in financial markets. \\\n",
    "One way to deal with portfolio selection is to model it as a multi-armed bandit(MAB) problem, which we want to do  in this project. Then, we will solve the resulted MAB problem and evaluate the final performance of the obtained solution."
   ]
  },
  {
   "cell_type": "markdown",
   "id": "30f7319c",
   "metadata": {},
   "source": [
    "# Modeling Portfolio Selection Problem as a Multi-Armed Bandit Problem(MAB)\n",
    "To model the portfolio selection problem as a multi-armed bandit problem, we can define each stock as an arm with an associated reward distribution, such as the expected return or the expected Sharpe ratio. The agent can then use a bandit algorithm to sequentially select stocks to invest in and observe their returns, updating their knowledge of the reward distributions as they go along.\n",
    "\n",
    "There are several bandit algorithms that can be used for solving the resulted MAB problem, such as the Thompson sampling algorithm, which uses a Bayesian approach to model the uncertainty of the reward distributions and samples from them to make investment decisions. Another common and simpler method is epsilon-greedy algorithm, where the investor selects the arm with the highest estimated mean reward with probability ($1-\\epsilon$) (exploitation), and selects a random arm with probability $\\epsilon$ (exploration). Here, we will use the epsilon-greedy algorithm.\n",
    "\n",
    "The key concept in MAB is the estimation of the action value function, which assigns a value to each action based on the expected reward. We must use an update rule to update the action value function as new rewards are observed. In the simplest case, where the reward distributions are assumed to be stationary and independent, the action value function can be estimated by the sample average, and we can use the popular incremental update rule. However, in this project, because we are dealing with a non-stationary problem, we use the below update rule:\n",
    "\n",
    "$$ Q_{t+1}(a) = Q_t(a) + \\alpha(R_t - Q_t(a)) $$\n",
    "\n",
    "where $Q_{t+1}(a)$ is the updated estimate of the value of action $a$ at time $t+1$, $R_t$ is the reward received at time $t$, and $\\alpha$ is the step-size parameter. This update rule is known as the \"weighted average\" rule, where the old estimate is weighted by $(1 - \\alpha)$ and the new observation is weighted by $\\alpha$. The parameter $\\alpha$ is typically set to a small value to give more weight to past observations and prevent the estimate from changing too quickly."
   ]
  },
  {
   "cell_type": "markdown",
   "id": "135fe3b4",
   "metadata": {},
   "source": [
    "# Content Outline\n",
    "In this project, we investigate the performance of the MAB approach for portfolio selection in two different scenarios. \\\n",
    "In the first scenario, we take real price data of some stocks and apply the MAB approach on it. Then, we compare the performance of the portfolio constructed using the MAB approach with a benchmark portfolio. \\\n",
    "In the second scenario, using available mathematical models for stock price modeling, we simulate the processes of multiple stocks' prices, and make a portfolio selection problem. Then, we solve the problem using the MAB approach."
   ]
  },
  {
   "cell_type": "markdown",
   "id": "2c3f16a3",
   "metadata": {},
   "source": [
    "# Scenario 1- Working on Real Financial Data\n",
    "First, we import the required libraries."
   ]
  },
  {
   "cell_type": "code",
   "execution_count": 1,
   "id": "e3373810",
   "metadata": {},
   "outputs": [],
   "source": [
    "import numpy as np\n",
    "import pandas as pd\n",
    "import yfinance as yf\n",
    "import matplotlib.pyplot as plt\n",
    "import warnings\n",
    "\n",
    "warnings.filterwarnings('ignore')\n",
    "np.random.seed(42)"
   ]
  },
  {
   "cell_type": "markdown",
   "id": "fa711275",
   "metadata": {},
   "source": [
    "We proceed by loading the required financial data and plotting the stock price chart."
   ]
  },
  {
   "cell_type": "code",
   "execution_count": 2,
   "id": "e62e78c5",
   "metadata": {},
   "outputs": [
    {
     "name": "stdout",
     "output_type": "stream",
     "text": [
      "[*********************100%***********************]  5 of 5 completed\n"
     ]
    },
    {
     "data": {
      "text/html": [
       "<div>\n",
       "<style scoped>\n",
       "    .dataframe tbody tr th:only-of-type {\n",
       "        vertical-align: middle;\n",
       "    }\n",
       "\n",
       "    .dataframe tbody tr th {\n",
       "        vertical-align: top;\n",
       "    }\n",
       "\n",
       "    .dataframe thead th {\n",
       "        text-align: right;\n",
       "    }\n",
       "</style>\n",
       "<table border=\"1\" class=\"dataframe\">\n",
       "  <thead>\n",
       "    <tr style=\"text-align: right;\">\n",
       "      <th></th>\n",
       "      <th>AAPL</th>\n",
       "      <th>AMZN</th>\n",
       "      <th>GOOG</th>\n",
       "      <th>MSFT</th>\n",
       "      <th>NVDA</th>\n",
       "    </tr>\n",
       "    <tr>\n",
       "      <th>Date</th>\n",
       "      <th></th>\n",
       "      <th></th>\n",
       "      <th></th>\n",
       "      <th></th>\n",
       "      <th></th>\n",
       "    </tr>\n",
       "  </thead>\n",
       "  <tbody>\n",
       "    <tr>\n",
       "      <th>2010-01-04</th>\n",
       "      <td>6.505280</td>\n",
       "      <td>6.695000</td>\n",
       "      <td>15.610239</td>\n",
       "      <td>23.623901</td>\n",
       "      <td>4.241589</td>\n",
       "    </tr>\n",
       "    <tr>\n",
       "      <th>2010-01-05</th>\n",
       "      <td>6.516527</td>\n",
       "      <td>6.734500</td>\n",
       "      <td>15.541497</td>\n",
       "      <td>23.631531</td>\n",
       "      <td>4.303527</td>\n",
       "    </tr>\n",
       "    <tr>\n",
       "      <th>2010-01-06</th>\n",
       "      <td>6.412872</td>\n",
       "      <td>6.612500</td>\n",
       "      <td>15.149715</td>\n",
       "      <td>23.486504</td>\n",
       "      <td>4.331053</td>\n",
       "    </tr>\n",
       "    <tr>\n",
       "      <th>2010-01-07</th>\n",
       "      <td>6.401018</td>\n",
       "      <td>6.500000</td>\n",
       "      <td>14.797037</td>\n",
       "      <td>23.242252</td>\n",
       "      <td>4.246178</td>\n",
       "    </tr>\n",
       "    <tr>\n",
       "      <th>2010-01-08</th>\n",
       "      <td>6.443574</td>\n",
       "      <td>6.676000</td>\n",
       "      <td>14.994298</td>\n",
       "      <td>23.402544</td>\n",
       "      <td>4.255353</td>\n",
       "    </tr>\n",
       "    <tr>\n",
       "      <th>...</th>\n",
       "      <td>...</td>\n",
       "      <td>...</td>\n",
       "      <td>...</td>\n",
       "      <td>...</td>\n",
       "      <td>...</td>\n",
       "    </tr>\n",
       "    <tr>\n",
       "      <th>2020-12-23</th>\n",
       "      <td>129.209305</td>\n",
       "      <td>159.263504</td>\n",
       "      <td>86.619003</td>\n",
       "      <td>216.605515</td>\n",
       "      <td>129.835495</td>\n",
       "    </tr>\n",
       "    <tr>\n",
       "      <th>2020-12-24</th>\n",
       "      <td>130.205780</td>\n",
       "      <td>158.634506</td>\n",
       "      <td>86.942497</td>\n",
       "      <td>218.300949</td>\n",
       "      <td>129.680786</td>\n",
       "    </tr>\n",
       "    <tr>\n",
       "      <th>2020-12-28</th>\n",
       "      <td>134.862671</td>\n",
       "      <td>164.197998</td>\n",
       "      <td>88.804497</td>\n",
       "      <td>220.466797</td>\n",
       "      <td>128.745163</td>\n",
       "    </tr>\n",
       "    <tr>\n",
       "      <th>2020-12-29</th>\n",
       "      <td>133.067017</td>\n",
       "      <td>166.100006</td>\n",
       "      <td>87.935997</td>\n",
       "      <td>219.672989</td>\n",
       "      <td>129.176788</td>\n",
       "    </tr>\n",
       "    <tr>\n",
       "      <th>2020-12-30</th>\n",
       "      <td>131.932388</td>\n",
       "      <td>164.292496</td>\n",
       "      <td>86.975998</td>\n",
       "      <td>217.252304</td>\n",
       "      <td>131.197784</td>\n",
       "    </tr>\n",
       "  </tbody>\n",
       "</table>\n",
       "<p>2768 rows × 5 columns</p>\n",
       "</div>"
      ],
      "text/plain": [
       "                  AAPL        AMZN       GOOG        MSFT        NVDA\n",
       "Date                                                                 \n",
       "2010-01-04    6.505280    6.695000  15.610239   23.623901    4.241589\n",
       "2010-01-05    6.516527    6.734500  15.541497   23.631531    4.303527\n",
       "2010-01-06    6.412872    6.612500  15.149715   23.486504    4.331053\n",
       "2010-01-07    6.401018    6.500000  14.797037   23.242252    4.246178\n",
       "2010-01-08    6.443574    6.676000  14.994298   23.402544    4.255353\n",
       "...                ...         ...        ...         ...         ...\n",
       "2020-12-23  129.209305  159.263504  86.619003  216.605515  129.835495\n",
       "2020-12-24  130.205780  158.634506  86.942497  218.300949  129.680786\n",
       "2020-12-28  134.862671  164.197998  88.804497  220.466797  128.745163\n",
       "2020-12-29  133.067017  166.100006  87.935997  219.672989  129.176788\n",
       "2020-12-30  131.932388  164.292496  86.975998  217.252304  131.197784\n",
       "\n",
       "[2768 rows x 5 columns]"
      ]
     },
     "execution_count": 2,
     "metadata": {},
     "output_type": "execute_result"
    }
   ],
   "source": [
    "# Define the list of assets to consider\n",
    "assets = ['AAPL', 'GOOG', 'AMZN', 'NVDA', 'MSFT']\n",
    "\n",
    "start_date = \"2010-01-01\"\n",
    "end_date = \"2020-12-31\"\n",
    "\n",
    "# Download the historical prices for the assets\n",
    "data = yf.download(assets, start = start_date, end = end_date)['Adj Close']\n",
    "\n",
    "data"
   ]
  },
  {
   "cell_type": "code",
   "execution_count": 3,
   "id": "5deb5b0b",
   "metadata": {},
   "outputs": [
    {
     "data": {
      "text/plain": [
       "<AxesSubplot: xlabel='Date'>"
      ]
     },
     "execution_count": 3,
     "metadata": {},
     "output_type": "execute_result"
    },
    {
     "data": {
      "image/png": "[encoded data removed]",
      "text/plain": [
       "<Figure size 640x480 with 1 Axes>"
      ]
     },
     "metadata": {},
     "output_type": "display_data"
    }
   ],
   "source": [
    "data.plot()"
   ]
  },
  {
   "cell_type": "markdown",
   "id": "521423ba",
   "metadata": {},
   "source": [
    "It can be observed that generally all stocks show a similar upward trend in their graphs, but the rates of returns for each of them is significantly different from one another during this time horizon. \\\n",
    "In order to formulate the portfolio selection problem as an MAB problem, we calculate the rate of return for each step of investment. The values of the rate of return can be used to calculate the reward at each step in the MAB problem."
   ]
  },
  {
   "cell_type": "code",
   "execution_count": 4,
   "id": "d33b9fd8",
   "metadata": {},
   "outputs": [
    {
     "data": {
      "text/html": [
       "<div>\n",
       "<style scoped>\n",
       "    .dataframe tbody tr th:only-of-type {\n",
       "        vertical-align: middle;\n",
       "    }\n",
       "\n",
       "    .dataframe tbody tr th {\n",
       "        vertical-align: top;\n",
       "    }\n",
       "\n",
       "    .dataframe thead th {\n",
       "        text-align: right;\n",
       "    }\n",
       "</style>\n",
       "<table border=\"1\" class=\"dataframe\">\n",
       "  <thead>\n",
       "    <tr style=\"text-align: right;\">\n",
       "      <th></th>\n",
       "      <th>AAPL</th>\n",
       "      <th>AMZN</th>\n",
       "      <th>GOOG</th>\n",
       "      <th>MSFT</th>\n",
       "      <th>NVDA</th>\n",
       "    </tr>\n",
       "    <tr>\n",
       "      <th>Date</th>\n",
       "      <th></th>\n",
       "      <th></th>\n",
       "      <th></th>\n",
       "      <th></th>\n",
       "      <th></th>\n",
       "    </tr>\n",
       "  </thead>\n",
       "  <tbody>\n",
       "    <tr>\n",
       "      <th>2010-01-05</th>\n",
       "      <td>0.001729</td>\n",
       "      <td>0.005900</td>\n",
       "      <td>-0.004404</td>\n",
       "      <td>0.000323</td>\n",
       "      <td>0.014603</td>\n",
       "    </tr>\n",
       "    <tr>\n",
       "      <th>2010-01-06</th>\n",
       "      <td>-0.015906</td>\n",
       "      <td>-0.018116</td>\n",
       "      <td>-0.025209</td>\n",
       "      <td>-0.006137</td>\n",
       "      <td>0.006396</td>\n",
       "    </tr>\n",
       "    <tr>\n",
       "      <th>2010-01-07</th>\n",
       "      <td>-0.001849</td>\n",
       "      <td>-0.017013</td>\n",
       "      <td>-0.023280</td>\n",
       "      <td>-0.010400</td>\n",
       "      <td>-0.019597</td>\n",
       "    </tr>\n",
       "    <tr>\n",
       "      <th>2010-01-08</th>\n",
       "      <td>0.006648</td>\n",
       "      <td>0.027077</td>\n",
       "      <td>0.013331</td>\n",
       "      <td>0.006897</td>\n",
       "      <td>0.002161</td>\n",
       "    </tr>\n",
       "    <tr>\n",
       "      <th>2010-01-11</th>\n",
       "      <td>-0.008822</td>\n",
       "      <td>-0.024041</td>\n",
       "      <td>-0.001512</td>\n",
       "      <td>-0.012720</td>\n",
       "      <td>-0.014016</td>\n",
       "    </tr>\n",
       "    <tr>\n",
       "      <th>...</th>\n",
       "      <td>...</td>\n",
       "      <td>...</td>\n",
       "      <td>...</td>\n",
       "      <td>...</td>\n",
       "      <td>...</td>\n",
       "    </tr>\n",
       "    <tr>\n",
       "      <th>2020-12-23</th>\n",
       "      <td>-0.006976</td>\n",
       "      <td>-0.006627</td>\n",
       "      <td>0.005152</td>\n",
       "      <td>-0.013039</td>\n",
       "      <td>-0.020259</td>\n",
       "    </tr>\n",
       "    <tr>\n",
       "      <th>2020-12-24</th>\n",
       "      <td>0.007712</td>\n",
       "      <td>-0.003949</td>\n",
       "      <td>0.003735</td>\n",
       "      <td>0.007827</td>\n",
       "      <td>-0.001192</td>\n",
       "    </tr>\n",
       "    <tr>\n",
       "      <th>2020-12-28</th>\n",
       "      <td>0.035766</td>\n",
       "      <td>0.035071</td>\n",
       "      <td>0.021416</td>\n",
       "      <td>0.009921</td>\n",
       "      <td>-0.007215</td>\n",
       "    </tr>\n",
       "    <tr>\n",
       "      <th>2020-12-29</th>\n",
       "      <td>-0.013315</td>\n",
       "      <td>0.011584</td>\n",
       "      <td>-0.009780</td>\n",
       "      <td>-0.003601</td>\n",
       "      <td>0.003353</td>\n",
       "    </tr>\n",
       "    <tr>\n",
       "      <th>2020-12-30</th>\n",
       "      <td>-0.008527</td>\n",
       "      <td>-0.010882</td>\n",
       "      <td>-0.010917</td>\n",
       "      <td>-0.011019</td>\n",
       "      <td>0.015645</td>\n",
       "    </tr>\n",
       "  </tbody>\n",
       "</table>\n",
       "<p>2767 rows × 5 columns</p>\n",
       "</div>"
      ],
      "text/plain": [
       "                AAPL      AMZN      GOOG      MSFT      NVDA\n",
       "Date                                                        \n",
       "2010-01-05  0.001729  0.005900 -0.004404  0.000323  0.014603\n",
       "2010-01-06 -0.015906 -0.018116 -0.025209 -0.006137  0.006396\n",
       "2010-01-07 -0.001849 -0.017013 -0.023280 -0.010400 -0.019597\n",
       "2010-01-08  0.006648  0.027077  0.013331  0.006897  0.002161\n",
       "2010-01-11 -0.008822 -0.024041 -0.001512 -0.012720 -0.014016\n",
       "...              ...       ...       ...       ...       ...\n",
       "2020-12-23 -0.006976 -0.006627  0.005152 -0.013039 -0.020259\n",
       "2020-12-24  0.007712 -0.003949  0.003735  0.007827 -0.001192\n",
       "2020-12-28  0.035766  0.035071  0.021416  0.009921 -0.007215\n",
       "2020-12-29 -0.013315  0.011584 -0.009780 -0.003601  0.003353\n",
       "2020-12-30 -0.008527 -0.010882 -0.010917 -0.011019  0.015645\n",
       "\n",
       "[2767 rows x 5 columns]"
      ]
     },
     "execution_count": 4,
     "metadata": {},
     "output_type": "execute_result"
    }
   ],
   "source": [
    "# Calculate the returns of the assets\n",
    "returns = data.pct_change().dropna()\n",
    "returns"
   ]
  },
  {
   "cell_type": "markdown",
   "id": "f355d626",
   "metadata": {},
   "source": [
    "Now we consider the portfolio selection problem as an MAB problem, and use the epsilon-greedy algorithm to solve the MAB problem. We define the required parameters, and we store the necessary information of the algorithm in appropriate data structures."
   ]
  },
  {
   "cell_type": "code",
   "execution_count": 5,
   "id": "3030fb07",
   "metadata": {},
   "outputs": [],
   "source": [
    "# Multi-armed bandit problem parameters\n",
    "num_actions = len(assets)\n",
    "num_steps = returns.shape[0]\n",
    "epsilon = 0.1\n",
    "alpha = 0.01\n",
    "\n",
    "# Initialize the value function\n",
    "Q = np.zeros(num_actions)\n",
    "\n",
    "# Initialize wealth\n",
    "mab_wealth = 1\n",
    "mab_wealth_history = [mab_wealth]\n",
    "mab_action_history = []\n",
    "\n",
    "# Implement epsilon-greedy algorithm\n",
    "for i in range(num_steps):\n",
    "    \n",
    "    # Choose an action\n",
    "    if np.random.rand() < epsilon:\n",
    "        action = np.random.randint(num_actions)\n",
    "    else:\n",
    "        action = np.argmax(Q)\n",
    "\n",
    "    # Add the chosen action in the history of actions\n",
    "    mab_action_history.append(action)\n",
    "    \n",
    "    # Observe the reward\n",
    "    reward = returns.iloc[i][action]\n",
    "        \n",
    "    # Update the value function\n",
    "    Q[action] = Q[action] + alpha * (reward - Q[action])\n",
    "    \n",
    "    # Calculate the wealth value\n",
    "    mab_wealth = mab_wealth * (1 + reward)\n",
    "    \n",
    "    # Add the wealth value in the history of wealth\n",
    "    mab_wealth_history.append(mab_wealth)"
   ]
  },
  {
   "cell_type": "code",
   "execution_count": 6,
   "id": "d7aa6a83",
   "metadata": {},
   "outputs": [
    {
     "data": {
      "text/plain": [
       "Text(0.5, 1.0, 'Total Value over the Investment Horizon')"
      ]
     },
     "execution_count": 6,
     "metadata": {},
     "output_type": "execute_result"
    },
    {
     "data": {
      "image/png": "[encoded data removed]",
      "text/plain": [
       "<Figure size 640x480 with 1 Axes>"
      ]
     },
     "metadata": {},
     "output_type": "display_data"
    }
   ],
   "source": [
    "plt.plot(mab_wealth_history)\n",
    "plt.xlabel('Time Steps')\n",
    "plt.ylabel('Total Value of the Portfolio')\n",
    "plt.title('Total Value over the Investment Horizon')"
   ]
  },
  {
   "cell_type": "markdown",
   "id": "0c41a21d",
   "metadata": {},
   "source": [
    "We can observe the calculated values for the action value function. In addition, we can observe how many times the agent has chosen each action."
   ]
  },
  {
   "cell_type": "code",
   "execution_count": 7,
   "id": "3cce627d",
   "metadata": {
    "scrolled": true
   },
   "outputs": [
    {
     "data": {
      "text/plain": [
       "array([-0.00034582, -0.0004611 , -0.00068896,  0.00119968, -0.00025938])"
      ]
     },
     "execution_count": 7,
     "metadata": {},
     "output_type": "execute_result"
    }
   ],
   "source": [
    "Q"
   ]
  },
  {
   "cell_type": "code",
   "execution_count": 8,
   "id": "a4a3ab6b",
   "metadata": {},
   "outputs": [
    {
     "data": {
      "text/plain": [
       "4    1051\n",
       "0     843\n",
       "3     475\n",
       "1     333\n",
       "2      65\n",
       "dtype: int64"
      ]
     },
     "execution_count": 8,
     "metadata": {},
     "output_type": "execute_result"
    }
   ],
   "source": [
    "pd.Series(mab_action_history).value_counts()"
   ]
  },
  {
   "cell_type": "code",
   "execution_count": 9,
   "id": "d4bbe697",
   "metadata": {},
   "outputs": [
    {
     "data": {
      "text/plain": [
       "4    573\n",
       "1    288\n",
       "3    253\n",
       "0    116\n",
       "2     37\n",
       "dtype: int64"
      ]
     },
     "execution_count": 9,
     "metadata": {},
     "output_type": "execute_result"
    }
   ],
   "source": [
    "pd.Series(mab_action_history[1500:]).value_counts()"
   ]
  },
  {
   "cell_type": "markdown",
   "id": "17ba573b",
   "metadata": {},
   "source": [
    "# Buy-and-Hold Strategy\n",
    "\n",
    "To evaluate the efficiency of the previous method, we can compare the performance of the portfolio constructed using the multi-armed bandit approach with a benchmark portfolio. Here, as the benchmark portfolio, we choose a simple buy-and-hold portfolio, where the weights are fixed at the initial allocation and not rebalanced over time. \\\n",
    "In addition, we need to choose a performance metric to compare the resulted portfolios of the two methods.\n",
    "There are several metrics that we can use to evaluate the performance of the portfolios. Some commonly used metrics are:\n",
    "cumulative returns, annualized returns, Sharpe ratio, maximum drawdown, and tracking error. Here, we choose the cumulative returns metric."
   ]
  },
  {
   "cell_type": "markdown",
   "id": "45fb9e7b",
   "metadata": {},
   "source": [
    "### Preposition\n",
    "In this code we assume an equal-weighted portfolio, where each asset has a weight of 1/(number of assets). However, choosing the appropriate initial weights for a buy-and-hold portfolio is an important decision that should be based on several factors, such as investment objectives, risk tolerance, market outlook, diversification, and personal preferences."
   ]
  },
  {
   "cell_type": "code",
   "execution_count": 10,
   "id": "0602dd61",
   "metadata": {},
   "outputs": [],
   "source": [
    "# Initialize wealth\n",
    "bh_wealth = 1\n",
    "bh_wealth_history = [bh_wealth]\n",
    "\n",
    "# Define weights for buy and hold strategy\n",
    "W = np.ones(num_actions) / num_actions\n",
    "\n",
    "# Calculate the wealth in each of assets\n",
    "W = W * bh_wealth\n",
    "\n",
    "# Calculate the wealth in each of assets during the investment horizon\n",
    "for i in range(num_steps):\n",
    "    for j in range(num_actions):\n",
    "        \n",
    "        # Observe the reward \n",
    "        reward = returns.iloc[i][j]\n",
    "        \n",
    "        # Update the wealth in the asset\n",
    "        W[j] = W[j] * (1 + reward)\n",
    "        \n",
    "    # Calculate the total value of assets\n",
    "    bh_wealth = np.sum(W)\n",
    "    \n",
    "    # Add the wealth value in the history of wealth\n",
    "    bh_wealth_history.append(bh_wealth)"
   ]
  },
  {
   "cell_type": "markdown",
   "id": "9c916a36",
   "metadata": {},
   "source": [
    "We can observe the total values on each assets."
   ]
  },
  {
   "cell_type": "code",
   "execution_count": 11,
   "id": "34a0506b",
   "metadata": {},
   "outputs": [
    {
     "data": {
      "text/plain": [
       "array([4.05616324, 4.9079161 , 1.1143455 , 1.83925848, 6.18625625])"
      ]
     },
     "execution_count": 11,
     "metadata": {},
     "output_type": "execute_result"
    }
   ],
   "source": [
    "W"
   ]
  },
  {
   "cell_type": "code",
   "execution_count": 12,
   "id": "27778161",
   "metadata": {},
   "outputs": [
    {
     "data": {
      "text/plain": [
       "Text(0.5, 1.0, 'Total Value over the Investment Horizon')"
      ]
     },
     "execution_count": 12,
     "metadata": {},
     "output_type": "execute_result"
    },
    {
     "data": {
      "image/png": "[encoded data removed]",
      "text/plain": [
       "<Figure size 640x480 with 1 Axes>"
      ]
     },
     "metadata": {},
     "output_type": "display_data"
    }
   ],
   "source": [
    "plt.plot(bh_wealth_history)\n",
    "plt.xlabel('Time Steps')\n",
    "plt.ylabel('Total Value of the Portfolio')\n",
    "plt.title('Total Value over the Investment Horizon')"
   ]
  },
  {
   "cell_type": "markdown",
   "id": "05abdf6f",
   "metadata": {},
   "source": [
    "Now, we can compare the performance of the both constructed portfolios in terms of cumulative returns."
   ]
  },
  {
   "cell_type": "code",
   "execution_count": 13,
   "id": "11bdcdc0",
   "metadata": {
    "scrolled": false
   },
   "outputs": [
    {
     "data": {
      "text/plain": [
       "<matplotlib.legend.Legend at 0x20fdb18f350>"
      ]
     },
     "execution_count": 13,
     "metadata": {},
     "output_type": "execute_result"
    },
    {
     "data": {
      "image/png": "[encoded data removed]",
      "text/plain": [
       "<Figure size 640x480 with 1 Axes>"
      ]
     },
     "metadata": {},
     "output_type": "display_data"
    }
   ],
   "source": [
    "plt.plot(mab_wealth_history, label = 'epsilon-greedy')\n",
    "plt.plot(bh_wealth_history, label = 'buy-and-hold')\n",
    "plt.xlabel('Time Steps')\n",
    "plt.ylabel('Total Value of the Portfolio')\n",
    "plt.title('Total Value over the Investment Horizon')\n",
    "plt.legend()"
   ]
  },
  {
   "cell_type": "markdown",
   "id": "0cbc349f",
   "metadata": {},
   "source": [
    "The results showed that the multi-armed bandit approach outperformed the buy-and-hold strategy in terms of cumulative returns. \n",
    "### Proposition \n",
    "It's important to note that these results are specific to the chosen stocks, investment horizon, and parameters, and may not generalize to other situations."
   ]
  },
  {
   "cell_type": "markdown",
   "id": "de7ef0c5",
   "metadata": {},
   "source": [
    "# Scenario 2- Working on Simulated Financial Data\n",
    "In this section, we aim to investigate the efficiency of the multi-armed bandit approach in a different way. \\\n",
    "In financial mathematics and engineering, it is very common to model stock price paths based on geometric Brownian motion(GBM) model. This modeling approach is very intuitive for mathematicians and has many applications in predicting future stock prices and pricing derivative assets. It is a continuous-time stochastic process with a log-normal distribution for the underlying asset's returns. The components of the GBM model are:\n",
    "\n",
    "$S(t)$: the stock price at time t \\\n",
    "$S_0$: the initial price of the asset \\\n",
    "$\\mu$: the expected rate of return of the asset (also known as the drift coefficient) \\\n",
    "$\\sigma$: the volatility of the asset's returns (also known as the diffusion coefficient) \\\n",
    "$dt$: the time step for discretizing the GBM process \\\n",
    "The GBM model is defined by the stochastic differential equation:\n",
    "\n",
    "$$ dS(t) = \\mu*S(t)dt + \\sigma *S(t)*dW(t) $$\n",
    "\n",
    "where $dW(t)$ is the Wiener process (Brownian motion) with independent and identically distributed Gaussian increments.\n",
    "\n",
    "In practice, the GBM model is often used to generate simulated price trajectories for an asset. The simulations are typically based on historical data for the asset's returns, from which the $\\mu$ and $\\sigma$ parameters are estimated.\n",
    "\n",
    "Furtunately, the mentioned stochastic differential equation can be solved simply, and therefore, the formula for simulating stock prices based on the geometric Brownian motion model is:\n",
    "\n",
    "$$ S(t) = S(0) * exp((μ - σ^2/2)t + σW(t)) $$\n",
    "\n",
    "The formula shows that the stock price at any point in time is a function of its initial price, the expected return, the volatility, and the randomness modeled by the Weiner process.\n",
    "\n",
    "Here, we intend to generate several stocks' prices using the geometric Brownian motion model and create a portfolio selection problem, and solve it using the MAB approach. The amazing point is that we can create the price paths of these stocks with any values that we want for $\\mu$ and $\\sigma$ . Therefore, we know the real parameters of the simulated price paths, and we know what actions have more values compared to the other actions. On the other hand, we can use the MAB approach with epsilon-greedy method, and we can check how many times the method has selected each of these stocks, and also we can see the estimated action value function. In this situation, we can evaluate the performance of the MAB approach to model and solve portfolio selection problem.\n",
    "\n",
    "First, we write a function that enables us to generate stock price paths based on the geometric Brownian motion model."
   ]
  },
  {
   "cell_type": "code",
   "execution_count": 14,
   "id": "4357bf26",
   "metadata": {},
   "outputs": [],
   "source": [
    "def simulate_gbm_path(S0, mu, sigma, n_periods):\n",
    "    # Generate the price paths\n",
    "    dt = 1 / 252  # assuming daily sampling\n",
    "    eps = np.random.normal(size=(n_periods))\n",
    "    eps[0] = 0  # set initial value to zero\n",
    "    S = S0 * np.exp(np.cumsum((mu - 0.5 * sigma ** 2) * dt + sigma * np.sqrt(dt) * eps, axis=0))\n",
    "    \n",
    "    return S"
   ]
  },
  {
   "cell_type": "markdown",
   "id": "d3ece24d",
   "metadata": {},
   "source": [
    "Now, we generate a sample stock's prices based on the GBM model."
   ]
  },
  {
   "cell_type": "code",
   "execution_count": 15,
   "id": "dcbe7893",
   "metadata": {},
   "outputs": [
    {
     "data": {
      "text/plain": [
       "Text(0.5, 1.0, 'Simulated Stock Prices Based on the GBM Model')"
      ]
     },
     "execution_count": 15,
     "metadata": {},
     "output_type": "execute_result"
    },
    {
     "data": {
      "image/png": "[encoded data removed]",
      "text/plain": [
       "<Figure size 640x480 with 1 Axes>"
      ]
     },
     "metadata": {},
     "output_type": "display_data"
    }
   ],
   "source": [
    "S = simulate_gbm_path(S0=100, mu=0.01, sigma=0.2, n_periods=1000)\n",
    "plt.plot(S)\n",
    "plt.xlabel('Time Steps')\n",
    "plt.ylabel('Stock Price')\n",
    "plt.title('Simulated Stock Prices Based on the GBM Model')"
   ]
  },
  {
   "cell_type": "markdown",
   "id": "48e12a65",
   "metadata": {},
   "source": [
    "### Part 1) \n",
    "In this subsection, we consider a number of stocks with the same volatility and different rate of returns, so that we can see whether our method can identify the stocks with the highest rate of returns or not."
   ]
  },
  {
   "cell_type": "markdown",
   "id": "8d912a45",
   "metadata": {},
   "source": [
    "### Proposition\n",
    "In this code, I generate some stock prices based on the geometric Brownian motiom model independetly, and then I consider a financial market including these stocks. In fact, I consider that there is no any correlations between this stocks. However, in the real financial markets, stock prices have correlations, and these correlations must be considered in any mathematical modeling such as the GBM model."
   ]
  },
  {
   "cell_type": "code",
   "execution_count": 16,
   "id": "86c4325f",
   "metadata": {},
   "outputs": [
    {
     "data": {
      "text/html": [
       "<div>\n",
       "<style scoped>\n",
       "    .dataframe tbody tr th:only-of-type {\n",
       "        vertical-align: middle;\n",
       "    }\n",
       "\n",
       "    .dataframe tbody tr th {\n",
       "        vertical-align: top;\n",
       "    }\n",
       "\n",
       "    .dataframe thead th {\n",
       "        text-align: right;\n",
       "    }\n",
       "</style>\n",
       "<table border=\"1\" class=\"dataframe\">\n",
       "  <thead>\n",
       "    <tr style=\"text-align: right;\">\n",
       "      <th></th>\n",
       "      <th>asset_0</th>\n",
       "      <th>asset_1</th>\n",
       "      <th>asset_2</th>\n",
       "      <th>asset_3</th>\n",
       "      <th>asset_4</th>\n",
       "      <th>asset_5</th>\n",
       "      <th>asset_6</th>\n",
       "      <th>asset_7</th>\n",
       "      <th>asset_8</th>\n",
       "      <th>asset_9</th>\n",
       "    </tr>\n",
       "  </thead>\n",
       "  <tbody>\n",
       "    <tr>\n",
       "      <th>0</th>\n",
       "      <td>9.999802e+01</td>\n",
       "      <td>1.000020e+02</td>\n",
       "      <td>1.000060e+02</td>\n",
       "      <td>1.000099e+02</td>\n",
       "      <td>1.000139e+02</td>\n",
       "      <td>1.000179e+02</td>\n",
       "      <td>1.000218e+02</td>\n",
       "      <td>1.000258e+02</td>\n",
       "      <td>1.000298e+02</td>\n",
       "      <td>1.000337e+02</td>\n",
       "    </tr>\n",
       "    <tr>\n",
       "      <th>1</th>\n",
       "      <td>1.006662e+02</td>\n",
       "      <td>1.001296e+02</td>\n",
       "      <td>1.008396e+02</td>\n",
       "      <td>9.990174e+01</td>\n",
       "      <td>9.965409e+01</td>\n",
       "      <td>1.000587e+02</td>\n",
       "      <td>9.949853e+01</td>\n",
       "      <td>1.004565e+02</td>\n",
       "      <td>1.006679e+02</td>\n",
       "      <td>9.974591e+01</td>\n",
       "    </tr>\n",
       "    <tr>\n",
       "      <th>2</th>\n",
       "      <td>1.016285e+02</td>\n",
       "      <td>1.004748e+02</td>\n",
       "      <td>1.002745e+02</td>\n",
       "      <td>9.985187e+01</td>\n",
       "      <td>9.976414e+01</td>\n",
       "      <td>1.005848e+02</td>\n",
       "      <td>1.002757e+02</td>\n",
       "      <td>9.939009e+01</td>\n",
       "      <td>1.019544e+02</td>\n",
       "      <td>9.874520e+01</td>\n",
       "    </tr>\n",
       "    <tr>\n",
       "      <th>3</th>\n",
       "      <td>1.025793e+02</td>\n",
       "      <td>1.009255e+02</td>\n",
       "      <td>1.007012e+02</td>\n",
       "      <td>9.885193e+01</td>\n",
       "      <td>1.007960e+02</td>\n",
       "      <td>9.907482e+01</td>\n",
       "      <td>1.007291e+02</td>\n",
       "      <td>9.876155e+01</td>\n",
       "      <td>1.007885e+02</td>\n",
       "      <td>9.962163e+01</td>\n",
       "    </tr>\n",
       "    <tr>\n",
       "      <th>4</th>\n",
       "      <td>1.011244e+02</td>\n",
       "      <td>1.012477e+02</td>\n",
       "      <td>1.014791e+02</td>\n",
       "      <td>9.971690e+01</td>\n",
       "      <td>1.006459e+02</td>\n",
       "      <td>9.933836e+01</td>\n",
       "      <td>1.005322e+02</td>\n",
       "      <td>9.906589e+01</td>\n",
       "      <td>1.006440e+02</td>\n",
       "      <td>9.813443e+01</td>\n",
       "    </tr>\n",
       "    <tr>\n",
       "      <th>...</th>\n",
       "      <td>...</td>\n",
       "      <td>...</td>\n",
       "      <td>...</td>\n",
       "      <td>...</td>\n",
       "      <td>...</td>\n",
       "      <td>...</td>\n",
       "      <td>...</td>\n",
       "      <td>...</td>\n",
       "      <td>...</td>\n",
       "      <td>...</td>\n",
       "    </tr>\n",
       "    <tr>\n",
       "      <th>999995</th>\n",
       "      <td>4.451196e-08</td>\n",
       "      <td>1.083784e+10</td>\n",
       "      <td>2.972760e+31</td>\n",
       "      <td>5.735508e+43</td>\n",
       "      <td>2.428001e+63</td>\n",
       "      <td>2.678221e+80</td>\n",
       "      <td>4.429934e+96</td>\n",
       "      <td>8.899600e+108</td>\n",
       "      <td>1.589287e+136</td>\n",
       "      <td>6.767850e+148</td>\n",
       "    </tr>\n",
       "    <tr>\n",
       "      <th>999996</th>\n",
       "      <td>4.453410e-08</td>\n",
       "      <td>1.073247e+10</td>\n",
       "      <td>2.976614e+31</td>\n",
       "      <td>5.770171e+43</td>\n",
       "      <td>2.433113e+63</td>\n",
       "      <td>2.669238e+80</td>\n",
       "      <td>4.414785e+96</td>\n",
       "      <td>8.857282e+108</td>\n",
       "      <td>1.588400e+136</td>\n",
       "      <td>6.762852e+148</td>\n",
       "    </tr>\n",
       "    <tr>\n",
       "      <th>999997</th>\n",
       "      <td>4.417952e-08</td>\n",
       "      <td>1.070037e+10</td>\n",
       "      <td>2.946631e+31</td>\n",
       "      <td>5.762315e+43</td>\n",
       "      <td>2.444507e+63</td>\n",
       "      <td>2.645122e+80</td>\n",
       "      <td>4.380921e+96</td>\n",
       "      <td>8.742502e+108</td>\n",
       "      <td>1.583024e+136</td>\n",
       "      <td>6.757553e+148</td>\n",
       "    </tr>\n",
       "    <tr>\n",
       "      <th>999998</th>\n",
       "      <td>4.403422e-08</td>\n",
       "      <td>1.069508e+10</td>\n",
       "      <td>2.922262e+31</td>\n",
       "      <td>5.693130e+43</td>\n",
       "      <td>2.469051e+63</td>\n",
       "      <td>2.637184e+80</td>\n",
       "      <td>4.388983e+96</td>\n",
       "      <td>8.759022e+108</td>\n",
       "      <td>1.608635e+136</td>\n",
       "      <td>6.838167e+148</td>\n",
       "    </tr>\n",
       "    <tr>\n",
       "      <th>999999</th>\n",
       "      <td>4.404428e-08</td>\n",
       "      <td>1.067217e+10</td>\n",
       "      <td>2.935829e+31</td>\n",
       "      <td>5.641921e+43</td>\n",
       "      <td>2.454851e+63</td>\n",
       "      <td>2.634863e+80</td>\n",
       "      <td>4.340714e+96</td>\n",
       "      <td>8.768993e+108</td>\n",
       "      <td>1.594493e+136</td>\n",
       "      <td>6.832992e+148</td>\n",
       "    </tr>\n",
       "  </tbody>\n",
       "</table>\n",
       "<p>1000000 rows × 10 columns</p>\n",
       "</div>"
      ],
      "text/plain": [
       "             asset_0       asset_1       asset_2       asset_3       asset_4  \\\n",
       "0       9.999802e+01  1.000020e+02  1.000060e+02  1.000099e+02  1.000139e+02   \n",
       "1       1.006662e+02  1.001296e+02  1.008396e+02  9.990174e+01  9.965409e+01   \n",
       "2       1.016285e+02  1.004748e+02  1.002745e+02  9.985187e+01  9.976414e+01   \n",
       "3       1.025793e+02  1.009255e+02  1.007012e+02  9.885193e+01  1.007960e+02   \n",
       "4       1.011244e+02  1.012477e+02  1.014791e+02  9.971690e+01  1.006459e+02   \n",
       "...              ...           ...           ...           ...           ...   \n",
       "999995  4.451196e-08  1.083784e+10  2.972760e+31  5.735508e+43  2.428001e+63   \n",
       "999996  4.453410e-08  1.073247e+10  2.976614e+31  5.770171e+43  2.433113e+63   \n",
       "999997  4.417952e-08  1.070037e+10  2.946631e+31  5.762315e+43  2.444507e+63   \n",
       "999998  4.403422e-08  1.069508e+10  2.922262e+31  5.693130e+43  2.469051e+63   \n",
       "999999  4.404428e-08  1.067217e+10  2.935829e+31  5.641921e+43  2.454851e+63   \n",
       "\n",
       "             asset_5       asset_6        asset_7        asset_8  \\\n",
       "0       1.000179e+02  1.000218e+02   1.000258e+02   1.000298e+02   \n",
       "1       1.000587e+02  9.949853e+01   1.004565e+02   1.006679e+02   \n",
       "2       1.005848e+02  1.002757e+02   9.939009e+01   1.019544e+02   \n",
       "3       9.907482e+01  1.007291e+02   9.876155e+01   1.007885e+02   \n",
       "4       9.933836e+01  1.005322e+02   9.906589e+01   1.006440e+02   \n",
       "...              ...           ...            ...            ...   \n",
       "999995  2.678221e+80  4.429934e+96  8.899600e+108  1.589287e+136   \n",
       "999996  2.669238e+80  4.414785e+96  8.857282e+108  1.588400e+136   \n",
       "999997  2.645122e+80  4.380921e+96  8.742502e+108  1.583024e+136   \n",
       "999998  2.637184e+80  4.388983e+96  8.759022e+108  1.608635e+136   \n",
       "999999  2.634863e+80  4.340714e+96  8.768993e+108  1.594493e+136   \n",
       "\n",
       "              asset_9  \n",
       "0        1.000337e+02  \n",
       "1        9.974591e+01  \n",
       "2        9.874520e+01  \n",
       "3        9.962163e+01  \n",
       "4        9.813443e+01  \n",
       "...               ...  \n",
       "999995  6.767850e+148  \n",
       "999996  6.762852e+148  \n",
       "999997  6.757553e+148  \n",
       "999998  6.838167e+148  \n",
       "999999  6.832992e+148  \n",
       "\n",
       "[1000000 rows x 10 columns]"
      ]
     },
     "execution_count": 16,
     "metadata": {},
     "output_type": "execute_result"
    }
   ],
   "source": [
    "# Define the parameters for geometric Brownian motion\n",
    "num_assets = 10\n",
    "n_periods = 1000000\n",
    "assets = []\n",
    "mu = np.arange(num_assets) * 0.01\n",
    "sigma = np.ones(num_assets) * 0.1\n",
    "S0 = np.ones(num_assets) * 100\n",
    "\n",
    "gbm_data = pd.DataFrame()\n",
    "\n",
    "for i in range(len(mu)):\n",
    "    S = simulate_gbm_path(S0[i], mu[i], sigma[i], n_periods)\n",
    "    new_asset_name = f'asset_{i}'\n",
    "    assets.append(new_asset_name)\n",
    "    gbm_data[new_asset_name] = S\n",
    "    \n",
    "gbm_data"
   ]
  },
  {
   "cell_type": "code",
   "execution_count": 17,
   "id": "46bb440d",
   "metadata": {},
   "outputs": [
    {
     "data": {
      "text/html": [
       "<div>\n",
       "<style scoped>\n",
       "    .dataframe tbody tr th:only-of-type {\n",
       "        vertical-align: middle;\n",
       "    }\n",
       "\n",
       "    .dataframe tbody tr th {\n",
       "        vertical-align: top;\n",
       "    }\n",
       "\n",
       "    .dataframe thead th {\n",
       "        text-align: right;\n",
       "    }\n",
       "</style>\n",
       "<table border=\"1\" class=\"dataframe\">\n",
       "  <thead>\n",
       "    <tr style=\"text-align: right;\">\n",
       "      <th></th>\n",
       "      <th>asset_0</th>\n",
       "      <th>asset_1</th>\n",
       "      <th>asset_2</th>\n",
       "      <th>asset_3</th>\n",
       "      <th>asset_4</th>\n",
       "      <th>asset_5</th>\n",
       "      <th>asset_6</th>\n",
       "      <th>asset_7</th>\n",
       "      <th>asset_8</th>\n",
       "      <th>asset_9</th>\n",
       "    </tr>\n",
       "  </thead>\n",
       "  <tbody>\n",
       "    <tr>\n",
       "      <th>1</th>\n",
       "      <td>0.006682</td>\n",
       "      <td>0.001276</td>\n",
       "      <td>0.008336</td>\n",
       "      <td>-0.001082</td>\n",
       "      <td>-0.003597</td>\n",
       "      <td>0.000409</td>\n",
       "      <td>-0.005232</td>\n",
       "      <td>0.004306</td>\n",
       "      <td>0.006379</td>\n",
       "      <td>-0.002877</td>\n",
       "    </tr>\n",
       "    <tr>\n",
       "      <th>2</th>\n",
       "      <td>0.009559</td>\n",
       "      <td>0.003448</td>\n",
       "      <td>-0.005604</td>\n",
       "      <td>-0.000499</td>\n",
       "      <td>0.001104</td>\n",
       "      <td>0.005258</td>\n",
       "      <td>0.007811</td>\n",
       "      <td>-0.010615</td>\n",
       "      <td>0.012780</td>\n",
       "      <td>-0.010033</td>\n",
       "    </tr>\n",
       "    <tr>\n",
       "      <th>3</th>\n",
       "      <td>0.009356</td>\n",
       "      <td>0.004485</td>\n",
       "      <td>0.004255</td>\n",
       "      <td>-0.010014</td>\n",
       "      <td>0.010343</td>\n",
       "      <td>-0.015012</td>\n",
       "      <td>0.004522</td>\n",
       "      <td>-0.006324</td>\n",
       "      <td>-0.011436</td>\n",
       "      <td>0.008876</td>\n",
       "    </tr>\n",
       "    <tr>\n",
       "      <th>4</th>\n",
       "      <td>-0.014183</td>\n",
       "      <td>0.003193</td>\n",
       "      <td>0.007725</td>\n",
       "      <td>0.008750</td>\n",
       "      <td>-0.001489</td>\n",
       "      <td>0.002660</td>\n",
       "      <td>-0.001954</td>\n",
       "      <td>0.003082</td>\n",
       "      <td>-0.001433</td>\n",
       "      <td>-0.014928</td>\n",
       "    </tr>\n",
       "    <tr>\n",
       "      <th>5</th>\n",
       "      <td>-0.005893</td>\n",
       "      <td>-0.012834</td>\n",
       "      <td>0.012030</td>\n",
       "      <td>0.003431</td>\n",
       "      <td>-0.006986</td>\n",
       "      <td>0.004933</td>\n",
       "      <td>0.006423</td>\n",
       "      <td>-0.000032</td>\n",
       "      <td>-0.002706</td>\n",
       "      <td>0.006816</td>\n",
       "    </tr>\n",
       "    <tr>\n",
       "      <th>...</th>\n",
       "      <td>...</td>\n",
       "      <td>...</td>\n",
       "      <td>...</td>\n",
       "      <td>...</td>\n",
       "      <td>...</td>\n",
       "      <td>...</td>\n",
       "      <td>...</td>\n",
       "      <td>...</td>\n",
       "      <td>...</td>\n",
       "      <td>...</td>\n",
       "    </tr>\n",
       "    <tr>\n",
       "      <th>999995</th>\n",
       "      <td>-0.005573</td>\n",
       "      <td>-0.006015</td>\n",
       "      <td>0.000530</td>\n",
       "      <td>-0.002031</td>\n",
       "      <td>-0.010564</td>\n",
       "      <td>0.005284</td>\n",
       "      <td>-0.001030</td>\n",
       "      <td>-0.006007</td>\n",
       "      <td>0.005337</td>\n",
       "      <td>0.005639</td>\n",
       "    </tr>\n",
       "    <tr>\n",
       "      <th>999996</th>\n",
       "      <td>0.000497</td>\n",
       "      <td>-0.009722</td>\n",
       "      <td>0.001296</td>\n",
       "      <td>0.006044</td>\n",
       "      <td>0.002105</td>\n",
       "      <td>-0.003354</td>\n",
       "      <td>-0.003420</td>\n",
       "      <td>-0.004755</td>\n",
       "      <td>-0.000558</td>\n",
       "      <td>-0.000739</td>\n",
       "    </tr>\n",
       "    <tr>\n",
       "      <th>999997</th>\n",
       "      <td>-0.007962</td>\n",
       "      <td>-0.002991</td>\n",
       "      <td>-0.010073</td>\n",
       "      <td>-0.001361</td>\n",
       "      <td>0.004683</td>\n",
       "      <td>-0.009035</td>\n",
       "      <td>-0.007671</td>\n",
       "      <td>-0.012959</td>\n",
       "      <td>-0.003385</td>\n",
       "      <td>-0.000784</td>\n",
       "    </tr>\n",
       "    <tr>\n",
       "      <th>999998</th>\n",
       "      <td>-0.003289</td>\n",
       "      <td>-0.000494</td>\n",
       "      <td>-0.008270</td>\n",
       "      <td>-0.012006</td>\n",
       "      <td>0.010041</td>\n",
       "      <td>-0.003001</td>\n",
       "      <td>0.001840</td>\n",
       "      <td>0.001890</td>\n",
       "      <td>0.016179</td>\n",
       "      <td>0.011930</td>\n",
       "    </tr>\n",
       "    <tr>\n",
       "      <th>999999</th>\n",
       "      <td>0.000228</td>\n",
       "      <td>-0.002142</td>\n",
       "      <td>0.004643</td>\n",
       "      <td>-0.008995</td>\n",
       "      <td>-0.005751</td>\n",
       "      <td>-0.000880</td>\n",
       "      <td>-0.010998</td>\n",
       "      <td>0.001138</td>\n",
       "      <td>-0.008791</td>\n",
       "      <td>-0.000757</td>\n",
       "    </tr>\n",
       "  </tbody>\n",
       "</table>\n",
       "<p>999999 rows × 10 columns</p>\n",
       "</div>"
      ],
      "text/plain": [
       "         asset_0   asset_1   asset_2   asset_3   asset_4   asset_5   asset_6  \\\n",
       "1       0.006682  0.001276  0.008336 -0.001082 -0.003597  0.000409 -0.005232   \n",
       "2       0.009559  0.003448 -0.005604 -0.000499  0.001104  0.005258  0.007811   \n",
       "3       0.009356  0.004485  0.004255 -0.010014  0.010343 -0.015012  0.004522   \n",
       "4      -0.014183  0.003193  0.007725  0.008750 -0.001489  0.002660 -0.001954   \n",
       "5      -0.005893 -0.012834  0.012030  0.003431 -0.006986  0.004933  0.006423   \n",
       "...          ...       ...       ...       ...       ...       ...       ...   \n",
       "999995 -0.005573 -0.006015  0.000530 -0.002031 -0.010564  0.005284 -0.001030   \n",
       "999996  0.000497 -0.009722  0.001296  0.006044  0.002105 -0.003354 -0.003420   \n",
       "999997 -0.007962 -0.002991 -0.010073 -0.001361  0.004683 -0.009035 -0.007671   \n",
       "999998 -0.003289 -0.000494 -0.008270 -0.012006  0.010041 -0.003001  0.001840   \n",
       "999999  0.000228 -0.002142  0.004643 -0.008995 -0.005751 -0.000880 -0.010998   \n",
       "\n",
       "         asset_7   asset_8   asset_9  \n",
       "1       0.004306  0.006379 -0.002877  \n",
       "2      -0.010615  0.012780 -0.010033  \n",
       "3      -0.006324 -0.011436  0.008876  \n",
       "4       0.003082 -0.001433 -0.014928  \n",
       "5      -0.000032 -0.002706  0.006816  \n",
       "...          ...       ...       ...  \n",
       "999995 -0.006007  0.005337  0.005639  \n",
       "999996 -0.004755 -0.000558 -0.000739  \n",
       "999997 -0.012959 -0.003385 -0.000784  \n",
       "999998  0.001890  0.016179  0.011930  \n",
       "999999  0.001138 -0.008791 -0.000757  \n",
       "\n",
       "[999999 rows x 10 columns]"
      ]
     },
     "execution_count": 17,
     "metadata": {},
     "output_type": "execute_result"
    }
   ],
   "source": [
    "# Calculate the returns of the assets\n",
    "returns = gbm_data.pct_change().dropna()\n",
    "\n",
    "returns"
   ]
  },
  {
   "cell_type": "code",
   "execution_count": 18,
   "id": "b04677fb",
   "metadata": {},
   "outputs": [],
   "source": [
    "# Multi-armed bandit problem parameters\n",
    "num_actions = len(assets)\n",
    "num_steps = returns.shape[0]\n",
    "epsilon = 0.1\n",
    "alpha = 0.01\n",
    "\n",
    "# Initialize the value function\n",
    "Q = np.zeros(num_actions)\n",
    "\n",
    "# Initialize wealth\n",
    "mab_wealth = 1\n",
    "mab_wealth_history = [mab_wealth]\n",
    "mab_action_history = []\n",
    "\n",
    "# Implement epsilon-greedy algorithm\n",
    "for i in range(num_steps):\n",
    "    \n",
    "    # Choose an action\n",
    "    if np.random.rand() < epsilon:\n",
    "        action = np.random.randint(num_actions)\n",
    "    else:\n",
    "        action = np.argmax(Q)\n",
    "\n",
    "    # Add the chosen action in the history of actions\n",
    "    mab_action_history.append(action)\n",
    "    \n",
    "    # Observe the reward\n",
    "    reward = returns.iloc[i][action]\n",
    "        \n",
    "    # Update the value function\n",
    "    Q[action] = Q[action] + alpha * (reward - Q[action])\n",
    "    \n",
    "    # Calculate the wealth value\n",
    "    mab_wealth *= (1 + reward)\n",
    "    \n",
    "    # Add the wealth value in the history of wealth\n",
    "    mab_wealth_history.append(mab_wealth)"
   ]
  },
  {
   "cell_type": "code",
   "execution_count": 19,
   "id": "432d250a",
   "metadata": {
    "scrolled": true
   },
   "outputs": [
    {
     "data": {
      "text/plain": [
       "array([-0.0010552 , -0.00046912, -0.00050498, -0.00033661, -0.00112106,\n",
       "       -0.0004375 , -0.00043936, -0.00044497, -0.00072116, -0.00036939])"
      ]
     },
     "execution_count": 19,
     "metadata": {},
     "output_type": "execute_result"
    }
   ],
   "source": [
    "Q"
   ]
  },
  {
   "cell_type": "code",
   "execution_count": 20,
   "id": "798708eb",
   "metadata": {},
   "outputs": [
    {
     "data": {
      "text/plain": [
       "8    174734\n",
       "9    158047\n",
       "7    130056\n",
       "6    101758\n",
       "4    100020\n",
       "5     92407\n",
       "3     75164\n",
       "2     64795\n",
       "1     54629\n",
       "0     48389\n",
       "dtype: int64"
      ]
     },
     "execution_count": 20,
     "metadata": {},
     "output_type": "execute_result"
    }
   ],
   "source": [
    "pd.Series(mab_action_history).value_counts()"
   ]
  },
  {
   "cell_type": "markdown",
   "id": "10378de9",
   "metadata": {},
   "source": [
    "We see that the agent mostly chooses the stocks with the highest rate of returns. It seems that our agent has the ability to identify which stocks have a higher rate of return."
   ]
  },
  {
   "cell_type": "markdown",
   "id": "2c417817",
   "metadata": {},
   "source": [
    "### Part 2) \n",
    "In this subsection, we consider a number of stocks with the same rate of return and different volatility, so that we can see whether our method can identify the stocks with the lowest volatilities or not."
   ]
  },
  {
   "cell_type": "markdown",
   "id": "51d7444f",
   "metadata": {},
   "source": [
    "### Proposition\n",
    "In this code, I generate some stock prices based on the geometric Brownian motiom model independetly, and then I consider a financial market including these stocks. In fact, I consider that there is no any correlations between this stocks. However, in the real financial markets, stock prices have correlations, and these correlations must be considered in any mathematical modeling such as the GBM model."
   ]
  },
  {
   "cell_type": "code",
   "execution_count": 21,
   "id": "4183ee40",
   "metadata": {},
   "outputs": [],
   "source": [
    "# Define the parameters for geometric Brownian motion\n",
    "num_assets = 10\n",
    "n_periods = 1000000\n",
    "assets = []\n",
    "sigma = np.arange(num_assets) * 0.01\n",
    "mu = np.ones(num_assets) * 0.1\n",
    "S0 = np.ones(num_assets) * 100\n",
    "\n",
    "gbm_data = pd.DataFrame()\n",
    "\n",
    "for i in range(len(mu)):\n",
    "    S = simulate_gbm_path(S0[i], mu[i], sigma[i], n_periods)\n",
    "    new_asset_name = f'asset_{i}'\n",
    "    assets.append(new_asset_name)\n",
    "    gbm_data[new_asset_name] = S"
   ]
  },
  {
   "cell_type": "code",
   "execution_count": 22,
   "id": "560bfa3e",
   "metadata": {},
   "outputs": [
    {
     "data": {
      "text/html": [
       "<div>\n",
       "<style scoped>\n",
       "    .dataframe tbody tr th:only-of-type {\n",
       "        vertical-align: middle;\n",
       "    }\n",
       "\n",
       "    .dataframe tbody tr th {\n",
       "        vertical-align: top;\n",
       "    }\n",
       "\n",
       "    .dataframe thead th {\n",
       "        text-align: right;\n",
       "    }\n",
       "</style>\n",
       "<table border=\"1\" class=\"dataframe\">\n",
       "  <thead>\n",
       "    <tr style=\"text-align: right;\">\n",
       "      <th></th>\n",
       "      <th>asset_0</th>\n",
       "      <th>asset_1</th>\n",
       "      <th>asset_2</th>\n",
       "      <th>asset_3</th>\n",
       "      <th>asset_4</th>\n",
       "      <th>asset_5</th>\n",
       "      <th>asset_6</th>\n",
       "      <th>asset_7</th>\n",
       "      <th>asset_8</th>\n",
       "      <th>asset_9</th>\n",
       "    </tr>\n",
       "  </thead>\n",
       "  <tbody>\n",
       "    <tr>\n",
       "      <th>1</th>\n",
       "      <td>0.000397</td>\n",
       "      <td>0.001294</td>\n",
       "      <td>0.001772</td>\n",
       "      <td>0.004276</td>\n",
       "      <td>-0.002262</td>\n",
       "      <td>0.004879</td>\n",
       "      <td>0.002316</td>\n",
       "      <td>0.007202</td>\n",
       "      <td>0.000072</td>\n",
       "      <td>-0.000202</td>\n",
       "    </tr>\n",
       "    <tr>\n",
       "      <th>2</th>\n",
       "      <td>0.000397</td>\n",
       "      <td>0.000917</td>\n",
       "      <td>0.002490</td>\n",
       "      <td>0.001029</td>\n",
       "      <td>0.000640</td>\n",
       "      <td>0.002030</td>\n",
       "      <td>-0.001018</td>\n",
       "      <td>0.002714</td>\n",
       "      <td>-0.001455</td>\n",
       "      <td>-0.003194</td>\n",
       "    </tr>\n",
       "    <tr>\n",
       "      <th>3</th>\n",
       "      <td>0.000397</td>\n",
       "      <td>0.000492</td>\n",
       "      <td>-0.000830</td>\n",
       "      <td>0.000419</td>\n",
       "      <td>-0.000452</td>\n",
       "      <td>0.000600</td>\n",
       "      <td>-0.001710</td>\n",
       "      <td>-0.006058</td>\n",
       "      <td>-0.005073</td>\n",
       "      <td>0.003099</td>\n",
       "    </tr>\n",
       "    <tr>\n",
       "      <th>4</th>\n",
       "      <td>0.000397</td>\n",
       "      <td>-0.000423</td>\n",
       "      <td>-0.000354</td>\n",
       "      <td>0.000869</td>\n",
       "      <td>-0.002536</td>\n",
       "      <td>-0.003863</td>\n",
       "      <td>0.004033</td>\n",
       "      <td>0.009237</td>\n",
       "      <td>-0.008001</td>\n",
       "      <td>0.003646</td>\n",
       "    </tr>\n",
       "    <tr>\n",
       "      <th>5</th>\n",
       "      <td>0.000397</td>\n",
       "      <td>-0.000209</td>\n",
       "      <td>0.001293</td>\n",
       "      <td>-0.000089</td>\n",
       "      <td>0.001202</td>\n",
       "      <td>0.006325</td>\n",
       "      <td>-0.000595</td>\n",
       "      <td>0.005273</td>\n",
       "      <td>0.001305</td>\n",
       "      <td>-0.007275</td>\n",
       "    </tr>\n",
       "    <tr>\n",
       "      <th>...</th>\n",
       "      <td>...</td>\n",
       "      <td>...</td>\n",
       "      <td>...</td>\n",
       "      <td>...</td>\n",
       "      <td>...</td>\n",
       "      <td>...</td>\n",
       "      <td>...</td>\n",
       "      <td>...</td>\n",
       "      <td>...</td>\n",
       "      <td>...</td>\n",
       "    </tr>\n",
       "    <tr>\n",
       "      <th>999995</th>\n",
       "      <td>0.000397</td>\n",
       "      <td>0.000082</td>\n",
       "      <td>-0.001231</td>\n",
       "      <td>-0.001465</td>\n",
       "      <td>-0.001078</td>\n",
       "      <td>-0.001731</td>\n",
       "      <td>-0.000250</td>\n",
       "      <td>-0.000192</td>\n",
       "      <td>0.000058</td>\n",
       "      <td>-0.009707</td>\n",
       "    </tr>\n",
       "    <tr>\n",
       "      <th>999996</th>\n",
       "      <td>0.000397</td>\n",
       "      <td>-0.000991</td>\n",
       "      <td>-0.000608</td>\n",
       "      <td>0.001985</td>\n",
       "      <td>-0.004344</td>\n",
       "      <td>-0.003268</td>\n",
       "      <td>0.001638</td>\n",
       "      <td>0.002186</td>\n",
       "      <td>0.000856</td>\n",
       "      <td>-0.005776</td>\n",
       "    </tr>\n",
       "    <tr>\n",
       "      <th>999997</th>\n",
       "      <td>0.000397</td>\n",
       "      <td>-0.000419</td>\n",
       "      <td>0.002825</td>\n",
       "      <td>-0.003085</td>\n",
       "      <td>0.002651</td>\n",
       "      <td>0.000545</td>\n",
       "      <td>0.009169</td>\n",
       "      <td>-0.005316</td>\n",
       "      <td>0.002426</td>\n",
       "      <td>-0.000369</td>\n",
       "    </tr>\n",
       "    <tr>\n",
       "      <th>999998</th>\n",
       "      <td>0.000397</td>\n",
       "      <td>0.000286</td>\n",
       "      <td>-0.002656</td>\n",
       "      <td>0.000968</td>\n",
       "      <td>0.004633</td>\n",
       "      <td>0.002710</td>\n",
       "      <td>0.006725</td>\n",
       "      <td>0.004117</td>\n",
       "      <td>0.005589</td>\n",
       "      <td>-0.006040</td>\n",
       "    </tr>\n",
       "    <tr>\n",
       "      <th>999999</th>\n",
       "      <td>0.000397</td>\n",
       "      <td>0.000334</td>\n",
       "      <td>-0.000367</td>\n",
       "      <td>-0.000773</td>\n",
       "      <td>-0.000970</td>\n",
       "      <td>0.000402</td>\n",
       "      <td>-0.000703</td>\n",
       "      <td>-0.000951</td>\n",
       "      <td>0.006191</td>\n",
       "      <td>-0.003417</td>\n",
       "    </tr>\n",
       "  </tbody>\n",
       "</table>\n",
       "<p>999999 rows × 10 columns</p>\n",
       "</div>"
      ],
      "text/plain": [
       "         asset_0   asset_1   asset_2   asset_3   asset_4   asset_5   asset_6  \\\n",
       "1       0.000397  0.001294  0.001772  0.004276 -0.002262  0.004879  0.002316   \n",
       "2       0.000397  0.000917  0.002490  0.001029  0.000640  0.002030 -0.001018   \n",
       "3       0.000397  0.000492 -0.000830  0.000419 -0.000452  0.000600 -0.001710   \n",
       "4       0.000397 -0.000423 -0.000354  0.000869 -0.002536 -0.003863  0.004033   \n",
       "5       0.000397 -0.000209  0.001293 -0.000089  0.001202  0.006325 -0.000595   \n",
       "...          ...       ...       ...       ...       ...       ...       ...   \n",
       "999995  0.000397  0.000082 -0.001231 -0.001465 -0.001078 -0.001731 -0.000250   \n",
       "999996  0.000397 -0.000991 -0.000608  0.001985 -0.004344 -0.003268  0.001638   \n",
       "999997  0.000397 -0.000419  0.002825 -0.003085  0.002651  0.000545  0.009169   \n",
       "999998  0.000397  0.000286 -0.002656  0.000968  0.004633  0.002710  0.006725   \n",
       "999999  0.000397  0.000334 -0.000367 -0.000773 -0.000970  0.000402 -0.000703   \n",
       "\n",
       "         asset_7   asset_8   asset_9  \n",
       "1       0.007202  0.000072 -0.000202  \n",
       "2       0.002714 -0.001455 -0.003194  \n",
       "3      -0.006058 -0.005073  0.003099  \n",
       "4       0.009237 -0.008001  0.003646  \n",
       "5       0.005273  0.001305 -0.007275  \n",
       "...          ...       ...       ...  \n",
       "999995 -0.000192  0.000058 -0.009707  \n",
       "999996  0.002186  0.000856 -0.005776  \n",
       "999997 -0.005316  0.002426 -0.000369  \n",
       "999998  0.004117  0.005589 -0.006040  \n",
       "999999 -0.000951  0.006191 -0.003417  \n",
       "\n",
       "[999999 rows x 10 columns]"
      ]
     },
     "execution_count": 22,
     "metadata": {},
     "output_type": "execute_result"
    }
   ],
   "source": [
    "# Calculate the returns of the assets\n",
    "returns = gbm_data.pct_change().dropna()\n",
    "\n",
    "returns"
   ]
  },
  {
   "cell_type": "code",
   "execution_count": 23,
   "id": "c0404d5d",
   "metadata": {},
   "outputs": [],
   "source": [
    "# Multi-armed bandit problem parameters\n",
    "num_actions = len(assets)\n",
    "num_steps = returns.shape[0]\n",
    "epsilon = 0.1\n",
    "alpha = 0.01\n",
    "\n",
    "# Initialize the value function\n",
    "Q = np.zeros(num_actions)\n",
    "\n",
    "# Initialize wealth\n",
    "mab_wealth = 1\n",
    "mab_wealth_history = [mab_wealth]\n",
    "mab_action_history = []\n",
    "\n",
    "# Implement epsilon-greedy algorithm\n",
    "for i in range(num_steps):\n",
    "    \n",
    "    # Choose an action\n",
    "    if np.random.rand() < epsilon:\n",
    "        action = np.random.randint(num_actions)\n",
    "    else:\n",
    "        action = np.argmax(Q)\n",
    "\n",
    "    # Add the chosen action in the history of actions\n",
    "    mab_action_history.append(action)\n",
    "    \n",
    "    # Observe the reward\n",
    "    reward = returns.iloc[i][action]\n",
    "        \n",
    "    # Update the value function\n",
    "    Q[action] = Q[action] + alpha * (reward - Q[action])\n",
    "    \n",
    "    # Calculate the wealth value\n",
    "    mab_wealth *= (1 + reward)\n",
    "    \n",
    "    # Add the wealth value in the history of wealth\n",
    "    mab_wealth_history.append(mab_wealth)"
   ]
  },
  {
   "cell_type": "code",
   "execution_count": 24,
   "id": "bf4fdd50",
   "metadata": {
    "scrolled": true
   },
   "outputs": [
    {
     "data": {
      "text/plain": [
       "array([ 3.96904142e-04,  3.91172954e-04,  3.62929644e-04,  3.53279265e-04,\n",
       "        3.86760074e-04,  2.34237505e-04,  1.45808399e-04, -2.22257384e-04,\n",
       "       -2.41817077e-04, -4.93310382e-05])"
      ]
     },
     "execution_count": 24,
     "metadata": {},
     "output_type": "execute_result"
    }
   ],
   "source": [
    "Q"
   ]
  },
  {
   "cell_type": "code",
   "execution_count": 25,
   "id": "7d659513",
   "metadata": {},
   "outputs": [
    {
     "data": {
      "text/plain": [
       "0    812949\n",
       "6     23421\n",
       "5     23236\n",
       "9     21826\n",
       "1     20799\n",
       "4     20751\n",
       "2     20041\n",
       "8     20037\n",
       "3     19374\n",
       "7     17565\n",
       "dtype: int64"
      ]
     },
     "execution_count": 25,
     "metadata": {},
     "output_type": "execute_result"
    }
   ],
   "source": [
    "pd.Series(mab_action_history).value_counts()"
   ]
  },
  {
   "cell_type": "markdown",
   "id": "49fbb52d",
   "metadata": {},
   "source": [
    "We see that the agent mostly chooses the stocks with the lowest volatilities. It seems that our agent has the ability to identify which stocks have lower volatilities."
   ]
  },
  {
   "cell_type": "markdown",
   "id": "069fe687",
   "metadata": {},
   "source": [
    "## Conclusion\n",
    "In this project, we formulated the portfolio selection problem as a multi-armed bandit(MAB) problem. The resulted MAB problem can be solved with any bandit methods such as epsilon-greedy method. After that, we evaulated the performance of the MAB approach in portfolio selection, in two different scenarios. In the first scenario, we evaluated the performance of the MAB approach with a benchmark portfolio on real financial data. In the second scenario, we evaluated the performance of the MAB approach in simulated financial data using mathematical models. All in all, the observed results in this project, convince us to think of the MAB approach as a method with high potential to solve the portfolio selection problem. For this reason, we will continue our journey in financial markets, and will try to make more complicated agents for portfolio selection such as contextual bandit agents and reinforcement learning agents."
   ]
  },
  {
   "cell_type": "code",
   "execution_count": null,
   "id": "f7b6708c",
   "metadata": {},
   "outputs": [],
   "source": []
  }
 ],
 "metadata": {
  "kernelspec": {
   "display_name": "Python 3 (ipykernel)",
   "language": "python",
   "name": "python3"
  },
  "language_info": {
   "codemirror_mode": {
    "name": "ipython",
    "version": 3
   },
   "file_extension": ".py",
   "mimetype": "text/x-python",
   "name": "python",
   "nbconvert_exporter": "python",
   "pygments_lexer": "ipython3",
   "version": "3.11.1"
  }
 },
 "nbformat": 4,
 "nbformat_minor": 5
}
